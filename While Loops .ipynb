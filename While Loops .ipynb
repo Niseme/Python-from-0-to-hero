{
 "cells": [
  {
   "cell_type": "code",
   "execution_count": 1,
   "id": "a369d374",
   "metadata": {},
   "outputs": [
    {
     "name": "stdout",
     "output_type": "stream",
     "text": [
      "yhe current value of x is 0\n",
      "yhe current value of x is 1\n",
      "yhe current value of x is 2\n",
      "yhe current value of x is 3\n",
      "yhe current value of x is 4\n"
     ]
    }
   ],
   "source": [
    "x = 0\n",
    "while x < 5:\n",
    "    print(f'yhe current value of x is {x}')\n",
    "    x += 1\n",
    "    "
   ]
  },
  {
   "cell_type": "code",
   "execution_count": 2,
   "id": "d16d87d9",
   "metadata": {},
   "outputs": [],
   "source": [
    "x = [1,2,3]"
   ]
  },
  {
   "cell_type": "code",
   "execution_count": 4,
   "id": "299dc9dd",
   "metadata": {},
   "outputs": [
    {
     "name": "stdout",
     "output_type": "stream",
     "text": [
      "end of my script\n"
     ]
    }
   ],
   "source": [
    "for item in x:\n",
    "    pass\n",
    "print('end of my script')"
   ]
  },
  {
   "cell_type": "code",
   "execution_count": 5,
   "id": "6e63c1ca",
   "metadata": {},
   "outputs": [],
   "source": [
    "mystring = 'Sammy'\n"
   ]
  },
  {
   "cell_type": "code",
   "execution_count": 8,
   "id": "fa3c473c",
   "metadata": {},
   "outputs": [
    {
     "name": "stdout",
     "output_type": "stream",
     "text": [
      "S\n",
      "m\n",
      "m\n",
      "y\n"
     ]
    }
   ],
   "source": [
    "for letter in mystring:\n",
    "    if letter == 'a':\n",
    "        continue\n",
    "    print(letter)"
   ]
  },
  {
   "cell_type": "code",
   "execution_count": null,
   "id": "5f21c0f2",
   "metadata": {},
   "outputs": [],
   "source": []
  }
 ],
 "metadata": {
  "kernelspec": {
   "display_name": "Python 3",
   "language": "python",
   "name": "python3"
  },
  "language_info": {
   "codemirror_mode": {
    "name": "ipython",
    "version": 3
   },
   "file_extension": ".py",
   "mimetype": "text/x-python",
   "name": "python",
   "nbconvert_exporter": "python",
   "pygments_lexer": "ipython3",
   "version": "3.8.8"
  }
 },
 "nbformat": 4,
 "nbformat_minor": 5
}
