{
 "cells": [
  {
   "cell_type": "code",
   "execution_count": null,
   "id": "13e25fa7",
   "metadata": {},
   "outputs": [],
   "source": [
    "myDict = {'key1':'value1','key2':'value2'}"
   ]
  },
  {
   "cell_type": "code",
   "execution_count": null,
   "id": "5cc7723c",
   "metadata": {},
   "outputs": [],
   "source": [
    "myDict"
   ]
  },
  {
   "cell_type": "code",
   "execution_count": null,
   "id": "5fd36143",
   "metadata": {},
   "outputs": [],
   "source": [
    "myDict['key1']"
   ]
  },
  {
   "cell_type": "code",
   "execution_count": null,
   "id": "ea1f85a8",
   "metadata": {},
   "outputs": [],
   "source": [
    "prices = {'apple':2.00,'banana':1.99,'milk':1.00}"
   ]
  },
  {
   "cell_type": "code",
   "execution_count": null,
   "id": "7ab4878f",
   "metadata": {},
   "outputs": [],
   "source": [
    "prices['apple']"
   ]
  },
  {
   "cell_type": "code",
   "execution_count": null,
   "id": "837e793b",
   "metadata": {},
   "outputs": [],
   "source": [
    "d = {'k1':123, 'k2':[1,2,3],'k3':{'insideK':[100,777]}}"
   ]
  },
  {
   "cell_type": "code",
   "execution_count": null,
   "id": "e6b2b34d",
   "metadata": {},
   "outputs": [],
   "source": [
    "d['k1']"
   ]
  },
  {
   "cell_type": "code",
   "execution_count": null,
   "id": "79586944",
   "metadata": {},
   "outputs": [],
   "source": [
    "d['k2'][0]"
   ]
  },
  {
   "cell_type": "code",
   "execution_count": null,
   "id": "c8aaeb59",
   "metadata": {},
   "outputs": [],
   "source": [
    "d['k3']"
   ]
  },
  {
   "cell_type": "code",
   "execution_count": null,
   "id": "559bba02",
   "metadata": {},
   "outputs": [],
   "source": [
    "x = d['k3']['insideK'][0]"
   ]
  },
  {
   "cell_type": "code",
   "execution_count": null,
   "id": "a0dab50c",
   "metadata": {},
   "outputs": [],
   "source": [
    "y = d['k3']['insideK'][1]"
   ]
  },
  {
   "cell_type": "code",
   "execution_count": null,
   "id": "f0a90289",
   "metadata": {},
   "outputs": [],
   "source": [
    "z=x+y"
   ]
  },
  {
   "cell_type": "code",
   "execution_count": null,
   "id": "0d0200b1",
   "metadata": {},
   "outputs": [],
   "source": [
    "z"
   ]
  },
  {
   "cell_type": "code",
   "execution_count": null,
   "id": "59f88d29",
   "metadata": {},
   "outputs": [],
   "source": [
    "w = d['k1']"
   ]
  },
  {
   "cell_type": "code",
   "execution_count": null,
   "id": "d3564320",
   "metadata": {},
   "outputs": [],
   "source": [
    "z-w"
   ]
  },
  {
   "cell_type": "code",
   "execution_count": null,
   "id": "14c89171",
   "metadata": {},
   "outputs": [],
   "source": [
    "listas = {'vienas':'1', 'du': '2'}"
   ]
  },
  {
   "cell_type": "code",
   "execution_count": null,
   "id": "049dcbbf",
   "metadata": {},
   "outputs": [],
   "source": [
    "listas"
   ]
  },
  {
   "cell_type": "code",
   "execution_count": null,
   "id": "c66d30a7",
   "metadata": {},
   "outputs": [],
   "source": [
    "a = listas['vienas']"
   ]
  },
  {
   "cell_type": "code",
   "execution_count": null,
   "id": "c1790bc5",
   "metadata": {},
   "outputs": [],
   "source": [
    "a"
   ]
  },
  {
   "cell_type": "code",
   "execution_count": null,
   "id": "2c766a35",
   "metadata": {},
   "outputs": [],
   "source": [
    "b = listas['du']"
   ]
  },
  {
   "cell_type": "code",
   "execution_count": null,
   "id": "731fa48a",
   "metadata": {},
   "outputs": [],
   "source": [
    "b\n"
   ]
  },
  {
   "cell_type": "code",
   "execution_count": null,
   "id": "7ac54e7a",
   "metadata": {},
   "outputs": [],
   "source": [
    "c = a+b"
   ]
  },
  {
   "cell_type": "code",
   "execution_count": null,
   "id": "b662778a",
   "metadata": {},
   "outputs": [],
   "source": [
    "c"
   ]
  },
  {
   "cell_type": "code",
   "execution_count": null,
   "id": "907b3fe2",
   "metadata": {},
   "outputs": [],
   "source": [
    "letter = {'first':'a', 'second': 'b'}"
   ]
  },
  {
   "cell_type": "code",
   "execution_count": null,
   "id": "a608a9ea",
   "metadata": {},
   "outputs": [],
   "source": [
    "letter"
   ]
  },
  {
   "cell_type": "code",
   "execution_count": null,
   "id": "8cb54fd2",
   "metadata": {},
   "outputs": [],
   "source": [
    "firstupper = letter['first']"
   ]
  },
  {
   "cell_type": "code",
   "execution_count": null,
   "id": "3587ab5f",
   "metadata": {},
   "outputs": [],
   "source": [
    "firstupper"
   ]
  },
  {
   "cell_type": "code",
   "execution_count": null,
   "id": "c6a2ba4e",
   "metadata": {},
   "outputs": [],
   "source": [
    "firstupper.upper()"
   ]
  },
  {
   "cell_type": "code",
   "execution_count": 87,
   "id": "627245e1",
   "metadata": {},
   "outputs": [],
   "source": [
    "up = {'myletters':['n','m','l']}"
   ]
  },
  {
   "cell_type": "code",
   "execution_count": 88,
   "id": "f50b0892",
   "metadata": {},
   "outputs": [
    {
     "data": {
      "text/plain": [
       "{'myletters': ['n', 'm', 'l']}"
      ]
     },
     "execution_count": 88,
     "metadata": {},
     "output_type": "execute_result"
    }
   ],
   "source": [
    "up"
   ]
  },
  {
   "cell_type": "code",
   "execution_count": 89,
   "id": "b857b3ac",
   "metadata": {},
   "outputs": [
    {
     "data": {
      "text/plain": [
       "'M'"
      ]
     },
     "execution_count": 89,
     "metadata": {},
     "output_type": "execute_result"
    }
   ],
   "source": [
    "up['myletters'][1].upper()"
   ]
  },
  {
   "cell_type": "code",
   "execution_count": 92,
   "id": "31448bbb",
   "metadata": {},
   "outputs": [],
   "source": [
    "up['myletters'] = 'p'\n"
   ]
  },
  {
   "cell_type": "code",
   "execution_count": 93,
   "id": "dc0f000f",
   "metadata": {},
   "outputs": [
    {
     "data": {
      "text/plain": [
       "{'myletters': 'p'}"
      ]
     },
     "execution_count": 93,
     "metadata": {},
     "output_type": "execute_result"
    }
   ],
   "source": [
    "up"
   ]
  },
  {
   "cell_type": "code",
   "execution_count": 1,
   "id": "970861c1",
   "metadata": {},
   "outputs": [],
   "source": [
    "adding = {'k1':100,'k2':200}"
   ]
  },
  {
   "cell_type": "code",
   "execution_count": 3,
   "id": "fad28a0c",
   "metadata": {},
   "outputs": [
    {
     "data": {
      "text/plain": [
       "{'k1': 100, 'k2': 200}"
      ]
     },
     "execution_count": 3,
     "metadata": {},
     "output_type": "execute_result"
    }
   ],
   "source": [
    "adding"
   ]
  },
  {
   "cell_type": "code",
   "execution_count": 6,
   "id": "cec948a7",
   "metadata": {},
   "outputs": [],
   "source": [
    "adding['k3']=300"
   ]
  },
  {
   "cell_type": "code",
   "execution_count": 7,
   "id": "22559f58",
   "metadata": {},
   "outputs": [
    {
     "data": {
      "text/plain": [
       "{'k1': 100, 'k2': 200, 'k3': 300}"
      ]
     },
     "execution_count": 7,
     "metadata": {},
     "output_type": "execute_result"
    }
   ],
   "source": [
    "adding"
   ]
  },
  {
   "cell_type": "code",
   "execution_count": 8,
   "id": "c61d8d63",
   "metadata": {},
   "outputs": [],
   "source": [
    "adding['k1'] = 'new'"
   ]
  },
  {
   "cell_type": "code",
   "execution_count": 9,
   "id": "49111d4a",
   "metadata": {},
   "outputs": [
    {
     "data": {
      "text/plain": [
       "{'k1': 'new', 'k2': 200, 'k3': 300}"
      ]
     },
     "execution_count": 9,
     "metadata": {},
     "output_type": "execute_result"
    }
   ],
   "source": [
    "adding"
   ]
  },
  {
   "cell_type": "code",
   "execution_count": 10,
   "id": "111467c8",
   "metadata": {},
   "outputs": [
    {
     "data": {
      "text/plain": [
       "dict_keys(['k1', 'k2', 'k3'])"
      ]
     },
     "execution_count": 10,
     "metadata": {},
     "output_type": "execute_result"
    }
   ],
   "source": [
    "adding.keys()"
   ]
  },
  {
   "cell_type": "code",
   "execution_count": 11,
   "id": "0c94d339",
   "metadata": {},
   "outputs": [
    {
     "data": {
      "text/plain": [
       "dict_values(['new', 200, 300])"
      ]
     },
     "execution_count": 11,
     "metadata": {},
     "output_type": "execute_result"
    }
   ],
   "source": [
    "adding.values()"
   ]
  },
  {
   "cell_type": "code",
   "execution_count": 13,
   "id": "5bd6c2da",
   "metadata": {},
   "outputs": [
    {
     "data": {
      "text/plain": [
       "dict_items([('k1', 'new'), ('k2', 200), ('k3', 300)])"
      ]
     },
     "execution_count": 13,
     "metadata": {},
     "output_type": "execute_result"
    }
   ],
   "source": [
    "adding.items()"
   ]
  },
  {
   "cell_type": "code",
   "execution_count": null,
   "id": "2e132235",
   "metadata": {},
   "outputs": [],
   "source": []
  }
 ],
 "metadata": {
  "kernelspec": {
   "display_name": "Python 3",
   "language": "python",
   "name": "python3"
  },
  "language_info": {
   "codemirror_mode": {
    "name": "ipython",
    "version": 3
   },
   "file_extension": ".py",
   "mimetype": "text/x-python",
   "name": "python",
   "nbconvert_exporter": "python",
   "pygments_lexer": "ipython3",
   "version": "3.8.8"
  }
 },
 "nbformat": 4,
 "nbformat_minor": 5
}
