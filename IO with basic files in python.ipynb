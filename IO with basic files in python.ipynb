{
 "cells": [
  {
   "cell_type": "code",
   "execution_count": 2,
   "id": "147bc705",
   "metadata": {},
   "outputs": [
    {
     "name": "stdout",
     "output_type": "stream",
     "text": [
      "Writing myfile2.txt\n"
     ]
    }
   ],
   "source": [
    "%%writefile myfile2.txt\n",
    "Hello\n",
    "first file\n",
    "second file"
   ]
  },
  {
   "cell_type": "code",
   "execution_count": 8,
   "id": "5ff637d6",
   "metadata": {},
   "outputs": [],
   "source": [
    "myfile2 = open('myfile2.txt')"
   ]
  },
  {
   "cell_type": "code",
   "execution_count": 9,
   "id": "7f641c1d",
   "metadata": {},
   "outputs": [
    {
     "ename": "FileNotFoundError",
     "evalue": "[Errno 2] No such file or directory: 'wrong_name.txt'",
     "output_type": "error",
     "traceback": [
      "\u001b[1;31m---------------------------------------------------------------------------\u001b[0m",
      "\u001b[1;31mFileNotFoundError\u001b[0m                         Traceback (most recent call last)",
      "\u001b[1;32m<ipython-input-9-12e78a35c6d1>\u001b[0m in \u001b[0;36m<module>\u001b[1;34m\u001b[0m\n\u001b[1;32m----> 1\u001b[1;33m \u001b[0mmyfile2\u001b[0m \u001b[1;33m=\u001b[0m \u001b[0mopen\u001b[0m\u001b[1;33m(\u001b[0m\u001b[1;34m'wrong_name.txt'\u001b[0m\u001b[1;33m)\u001b[0m\u001b[1;33m\u001b[0m\u001b[1;33m\u001b[0m\u001b[0m\n\u001b[0m",
      "\u001b[1;31mFileNotFoundError\u001b[0m: [Errno 2] No such file or directory: 'wrong_name.txt'"
     ]
    }
   ],
   "source": [
    "myfile2 = open('wrong_name.txt')"
   ]
  },
  {
   "cell_type": "code",
   "execution_count": 5,
   "id": "98cbbbc1",
   "metadata": {},
   "outputs": [
    {
     "data": {
      "text/plain": [
       "'C:\\\\Users\\\\Nelly\\\\Python-from-0-to-hero'"
      ]
     },
     "execution_count": 5,
     "metadata": {},
     "output_type": "execute_result"
    }
   ],
   "source": [
    "pwd\n"
   ]
  },
  {
   "cell_type": "code",
   "execution_count": 10,
   "id": "a017f88b",
   "metadata": {},
   "outputs": [],
   "source": [
    "myfile2 = open('myfile2.txt')"
   ]
  },
  {
   "cell_type": "code",
   "execution_count": 11,
   "id": "0fad7cc0",
   "metadata": {},
   "outputs": [
    {
     "data": {
      "text/plain": [
       "'Hello\\nfirst file\\nsecond file\\n'"
      ]
     },
     "execution_count": 11,
     "metadata": {},
     "output_type": "execute_result"
    }
   ],
   "source": [
    "myfile2.read()"
   ]
  },
  {
   "cell_type": "code",
   "execution_count": 12,
   "id": "949a3647",
   "metadata": {},
   "outputs": [
    {
     "data": {
      "text/plain": [
       "''"
      ]
     },
     "execution_count": 12,
     "metadata": {},
     "output_type": "execute_result"
    }
   ],
   "source": [
    "myfile2.read()"
   ]
  },
  {
   "cell_type": "code",
   "execution_count": 13,
   "id": "c7240bcc",
   "metadata": {},
   "outputs": [
    {
     "data": {
      "text/plain": [
       "0"
      ]
     },
     "execution_count": 13,
     "metadata": {},
     "output_type": "execute_result"
    }
   ],
   "source": [
    "myfile2.seek(0)"
   ]
  },
  {
   "cell_type": "code",
   "execution_count": 15,
   "id": "40f18aa1",
   "metadata": {
    "scrolled": true
   },
   "outputs": [
    {
     "data": {
      "text/plain": [
       "''"
      ]
     },
     "execution_count": 15,
     "metadata": {},
     "output_type": "execute_result"
    }
   ],
   "source": [
    "myfile2.read()"
   ]
  },
  {
   "cell_type": "code",
   "execution_count": 16,
   "id": "72343cdd",
   "metadata": {},
   "outputs": [
    {
     "data": {
      "text/plain": [
       "0"
      ]
     },
     "execution_count": 16,
     "metadata": {},
     "output_type": "execute_result"
    }
   ],
   "source": [
    "myfile2.seek(0)"
   ]
  },
  {
   "cell_type": "code",
   "execution_count": 17,
   "id": "991d68fb",
   "metadata": {},
   "outputs": [],
   "source": [
    "content = myfile2.read()"
   ]
  },
  {
   "cell_type": "code",
   "execution_count": 18,
   "id": "5f3af2dc",
   "metadata": {},
   "outputs": [
    {
     "data": {
      "text/plain": [
       "'Hello\\nfirst file\\nsecond file\\n'"
      ]
     },
     "execution_count": 18,
     "metadata": {},
     "output_type": "execute_result"
    }
   ],
   "source": [
    "content"
   ]
  },
  {
   "cell_type": "code",
   "execution_count": 19,
   "id": "a757c784",
   "metadata": {},
   "outputs": [
    {
     "data": {
      "text/plain": [
       "0"
      ]
     },
     "execution_count": 19,
     "metadata": {},
     "output_type": "execute_result"
    }
   ],
   "source": [
    "myfile2.seek(0)\n"
   ]
  },
  {
   "cell_type": "code",
   "execution_count": 20,
   "id": "5278aa61",
   "metadata": {},
   "outputs": [
    {
     "data": {
      "text/plain": [
       "['Hello\\n', 'first file\\n', 'second file\\n']"
      ]
     },
     "execution_count": 20,
     "metadata": {},
     "output_type": "execute_result"
    }
   ],
   "source": [
    "myfile2.readlines()\n"
   ]
  },
  {
   "cell_type": "code",
   "execution_count": 1,
   "id": "5e62f0ae",
   "metadata": {},
   "outputs": [
    {
     "data": {
      "text/plain": [
       "'C:\\\\Users\\\\Nelly\\\\Python-from-0-to-hero'"
      ]
     },
     "execution_count": 1,
     "metadata": {},
     "output_type": "execute_result"
    }
   ],
   "source": [
    "pwd"
   ]
  },
  {
   "cell_type": "code",
   "execution_count": 5,
   "id": "2cd6bc09",
   "metadata": {},
   "outputs": [],
   "source": [
    "with open('myfile2.txt') as my_new_file:\n",
    "    contents = my_new_file.read()"
   ]
  },
  {
   "cell_type": "code",
   "execution_count": 6,
   "id": "c51e50ce",
   "metadata": {},
   "outputs": [
    {
     "data": {
      "text/plain": [
       "'Hello\\nfirst file\\nsecond file\\n'"
      ]
     },
     "execution_count": 6,
     "metadata": {},
     "output_type": "execute_result"
    }
   ],
   "source": [
    "contents"
   ]
  },
  {
   "cell_type": "code",
   "execution_count": 10,
   "id": "e5e806b9",
   "metadata": {},
   "outputs": [],
   "source": [
    "with open ('myfile2.txt',mode = 'r') as myfile2:\n",
    "    contents = myfile2.read()"
   ]
  },
  {
   "cell_type": "code",
   "execution_count": 14,
   "id": "a0438ded",
   "metadata": {},
   "outputs": [
    {
     "name": "stdout",
     "output_type": "stream",
     "text": [
      "Overwriting my_new_file.txt\n"
     ]
    }
   ],
   "source": [
    "%%writefile my_new_file.txt\n",
    "1 on one\n",
    "2 on two\n",
    "3 on three"
   ]
  },
  {
   "cell_type": "code",
   "execution_count": 21,
   "id": "49c218db",
   "metadata": {},
   "outputs": [
    {
     "name": "stdout",
     "output_type": "stream",
     "text": [
      "1 on one\n",
      "2 on two\n",
      "3 on three\n",
      "\n"
     ]
    }
   ],
   "source": [
    "with open ('my_new_file.txt', mode = 'r' ) as f:\n",
    "    print (f.read())"
   ]
  },
  {
   "cell_type": "code",
   "execution_count": 22,
   "id": "a8b38156",
   "metadata": {},
   "outputs": [],
   "source": [
    "with open ('my_new_file.txt', mode = 'a' ) as f:\n",
    "    f.write('4 on four')"
   ]
  },
  {
   "cell_type": "code",
   "execution_count": 23,
   "id": "104e5ba5",
   "metadata": {},
   "outputs": [
    {
     "name": "stdout",
     "output_type": "stream",
     "text": [
      "1 on one\n",
      "2 on two\n",
      "3 on three\n",
      "4 on four\n"
     ]
    }
   ],
   "source": [
    "with open ('my_new_file.txt', mode = 'r' ) as f:\n",
    "    print (f.read())"
   ]
  },
  {
   "cell_type": "code",
   "execution_count": 24,
   "id": "103d7969",
   "metadata": {},
   "outputs": [],
   "source": [
    "with open ('Created_file.txt', mode = 'w' ) as f:\n",
    "    f.write('my new created file')"
   ]
  },
  {
   "cell_type": "code",
   "execution_count": 27,
   "id": "f4a14b41",
   "metadata": {},
   "outputs": [
    {
     "name": "stdout",
     "output_type": "stream",
     "text": [
      "my new created file\n"
     ]
    }
   ],
   "source": [
    "with open ('Created_file.txt', mode = 'r' ) as f:\n",
    "   print(f.read())"
   ]
  },
  {
   "cell_type": "code",
   "execution_count": null,
   "id": "bcaa2f71",
   "metadata": {},
   "outputs": [],
   "source": []
  }
 ],
 "metadata": {
  "kernelspec": {
   "display_name": "Python 3",
   "language": "python",
   "name": "python3"
  },
  "language_info": {
   "codemirror_mode": {
    "name": "ipython",
    "version": 3
   },
   "file_extension": ".py",
   "mimetype": "text/x-python",
   "name": "python",
   "nbconvert_exporter": "python",
   "pygments_lexer": "ipython3",
   "version": "3.8.8"
  }
 },
 "nbformat": 4,
 "nbformat_minor": 5
}
