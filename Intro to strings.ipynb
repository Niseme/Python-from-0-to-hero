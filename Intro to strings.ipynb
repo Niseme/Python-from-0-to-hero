{
 "cells": [
  {
   "cell_type": "code",
   "execution_count": 1,
   "id": "b5c6f8fe",
   "metadata": {},
   "outputs": [
    {
     "data": {
      "text/plain": [
       "'hello'"
      ]
     },
     "execution_count": 1,
     "metadata": {},
     "output_type": "execute_result"
    }
   ],
   "source": [
    "'hello'"
   ]
  },
  {
   "cell_type": "code",
   "execution_count": 2,
   "id": "5adafe39",
   "metadata": {},
   "outputs": [
    {
     "data": {
      "text/plain": [
       "'world'"
      ]
     },
     "execution_count": 2,
     "metadata": {},
     "output_type": "execute_result"
    }
   ],
   "source": [
    "\"world\""
   ]
  },
  {
   "cell_type": "code",
   "execution_count": 4,
   "id": "7dfbb1a5",
   "metadata": {},
   "outputs": [
    {
     "data": {
      "text/plain": [
       "'this is also a sting, spaces also counts'"
      ]
     },
     "execution_count": 4,
     "metadata": {},
     "output_type": "execute_result"
    }
   ],
   "source": [
    "'this is also a sting, spaces also counts'"
   ]
  },
  {
   "cell_type": "code",
   "execution_count": 5,
   "id": "76e08441",
   "metadata": {},
   "outputs": [
    {
     "data": {
      "text/plain": [
       "\" single quates can't be used here\""
      ]
     },
     "execution_count": 5,
     "metadata": {},
     "output_type": "execute_result"
    }
   ],
   "source": [
    "\" single quates can't be used here\""
   ]
  },
  {
   "cell_type": "code",
   "execution_count": 8,
   "id": "88194b61",
   "metadata": {},
   "outputs": [
    {
     "name": "stdout",
     "output_type": "stream",
     "text": [
      "hello, without the quatting\n"
     ]
    }
   ],
   "source": [
    "print (\"hello, without the quatting\")"
   ]
  },
  {
   "cell_type": "code",
   "execution_count": 14,
   "id": "a294aef5",
   "metadata": {},
   "outputs": [
    {
     "name": "stdout",
     "output_type": "stream",
     "text": [
      " hello \n",
      " world\n"
     ]
    }
   ],
   "source": [
    "print (' hello \\n world')"
   ]
  },
  {
   "cell_type": "code",
   "execution_count": 15,
   "id": "f915a3b4",
   "metadata": {},
   "outputs": [
    {
     "name": "stdout",
     "output_type": "stream",
     "text": [
      " hello \t world\n"
     ]
    }
   ],
   "source": [
    "print (' hello \\t world')"
   ]
  },
  {
   "cell_type": "code",
   "execution_count": 16,
   "id": "e83e37f2",
   "metadata": {},
   "outputs": [
    {
     "data": {
      "text/plain": [
       "5"
      ]
     },
     "execution_count": 16,
     "metadata": {},
     "output_type": "execute_result"
    }
   ],
   "source": [
    "len ('hello')"
   ]
  },
  {
   "cell_type": "code",
   "execution_count": 17,
   "id": "9aaa90c8",
   "metadata": {},
   "outputs": [
    {
     "data": {
      "text/plain": [
       "9"
      ]
     },
     "execution_count": 17,
     "metadata": {},
     "output_type": "execute_result"
    }
   ],
   "source": [
    "len ('I am good')"
   ]
  },
  {
   "cell_type": "code",
   "execution_count": null,
   "id": "d2056bf0",
   "metadata": {},
   "outputs": [],
   "source": []
  }
 ],
 "metadata": {
  "kernelspec": {
   "display_name": "Python 3",
   "language": "python",
   "name": "python3"
  },
  "language_info": {
   "codemirror_mode": {
    "name": "ipython",
    "version": 3
   },
   "file_extension": ".py",
   "mimetype": "text/x-python",
   "name": "python",
   "nbconvert_exporter": "python",
   "pygments_lexer": "ipython3",
   "version": "3.8.8"
  }
 },
 "nbformat": 4,
 "nbformat_minor": 5
}
